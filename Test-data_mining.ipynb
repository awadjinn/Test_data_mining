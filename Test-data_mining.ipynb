{
 "cells": [
  {
   "cell_type": "markdown",
   "metadata": {},
   "source": [
    "# Load data"
   ]
  },
  {
   "cell_type": "code",
   "execution_count": 1,
   "metadata": {},
   "outputs": [],
   "source": [
    "import pandas as pd\n",
    "from datetime import datetime , timedelta\n",
    "import matplotlib.pyplot as plt \n",
    "\n",
    "dstest = \"/Users/abdellahwadjinny/Downloads/test/dataMining/dstest.csv\"\n",
    "df = pd.read_csv(dstest)"
   ]
  },
  {
   "cell_type": "markdown",
   "metadata": {},
   "source": [
    "# Question 1\n",
    "\n",
    "**Knowing the goal of the our technology, define a metric to measure our performance. Calculate that performance score for each of the companies in the dataset.**\n",
    "\n",
    "\n",
    "\n",
    "Knowing the goal of your technology wich is reducing the volume of data loaded from the CDN, a good metric is the percentage of data loaded form the  P2P netwoork :\n",
    "\n",
    "$$Performance = \\frac{Volume_{P2P}}{Volume_{P2P} + Volume_{CDN}}$$\n",
    "\n",
    "Below the performance for each company. Your company is by fare the most successful.\n",
    "\n",
    "\n"
   ]
  },
  {
   "cell_type": "code",
   "execution_count": 2,
   "metadata": {},
   "outputs": [
    {
     "data": {
      "text/html": [
       "<div>\n",
       "<style scoped>\n",
       "    .dataframe tbody tr th:only-of-type {\n",
       "        vertical-align: middle;\n",
       "    }\n",
       "\n",
       "    .dataframe tbody tr th {\n",
       "        vertical-align: top;\n",
       "    }\n",
       "\n",
       "    .dataframe thead th {\n",
       "        text-align: right;\n",
       "    }\n",
       "</style>\n",
       "<table border=\"1\" class=\"dataframe\">\n",
       "  <thead>\n",
       "    <tr style=\"text-align: right;\">\n",
       "      <th></th>\n",
       "      <th>p2p</th>\n",
       "      <th>cdn</th>\n",
       "      <th>performance</th>\n",
       "    </tr>\n",
       "    <tr>\n",
       "      <th>company</th>\n",
       "      <th></th>\n",
       "      <th></th>\n",
       "      <th></th>\n",
       "    </tr>\n",
       "  </thead>\n",
       "  <tbody>\n",
       "    <tr>\n",
       "      <th>Flash Infos</th>\n",
       "      <td>1.156855e+11</td>\n",
       "      <td>1.778905e+11</td>\n",
       "      <td>0.394056</td>\n",
       "    </tr>\n",
       "    <tr>\n",
       "      <th>Sports News</th>\n",
       "      <td>1.880077e+10</td>\n",
       "      <td>6.669082e+10</td>\n",
       "      <td>0.219914</td>\n",
       "    </tr>\n",
       "    <tr>\n",
       "      <th>Streamroot TV</th>\n",
       "      <td>3.177736e+12</td>\n",
       "      <td>2.628596e+12</td>\n",
       "      <td>0.547288</td>\n",
       "    </tr>\n",
       "  </tbody>\n",
       "</table>\n",
       "</div>"
      ],
      "text/plain": [
       "                        p2p           cdn  performance\n",
       "company                                               \n",
       "Flash Infos    1.156855e+11  1.778905e+11     0.394056\n",
       "Sports News    1.880077e+10  6.669082e+10     0.219914\n",
       "Streamroot TV  3.177736e+12  2.628596e+12     0.547288"
      ]
     },
     "execution_count": 2,
     "metadata": {},
     "output_type": "execute_result"
    }
   ],
   "source": [
    "q1 = df[[\"company\",\"p2p\",\"cdn\"]].groupby(\"company\").sum([\"p2p\",\"cdn\"])\n",
    "q1[\"performance\"] = q1[\"p2p\"]/(q1[\"cdn\"] + q1[\"p2p\"])\n",
    "q1"
   ]
  },
  {
   "cell_type": "markdown",
   "metadata": {},
   "source": [
    "# Question 2\n",
    "## 2.1\n",
    "\n",
    "**How can we know whether a payload is the first payload of a viewer's session?**\n",
    "\n",
    "Payloads are sent every 2 minutes, so the first payload is sent after 120000 ms from the begeining of the session, which means that the first payload is characterized by a `sessionDuration` equal to 120000 ms.\n"
   ]
  },
  {
   "cell_type": "markdown",
   "metadata": {},
   "source": [
    "## 2.2\n",
    "\n",
    "**Add a column `isFirstPayload` to the dataset, that must be True if the row represents a payload that was the first payload sent by a viewer, and False otherwise.**"
   ]
  },
  {
   "cell_type": "code",
   "execution_count": 55,
   "metadata": {},
   "outputs": [
    {
     "data": {
      "text/html": [
       "<div>\n",
       "<style scoped>\n",
       "    .dataframe tbody tr th:only-of-type {\n",
       "        vertical-align: middle;\n",
       "    }\n",
       "\n",
       "    .dataframe tbody tr th {\n",
       "        vertical-align: top;\n",
       "    }\n",
       "\n",
       "    .dataframe thead th {\n",
       "        text-align: right;\n",
       "    }\n",
       "</style>\n",
       "<table border=\"1\" class=\"dataframe\">\n",
       "  <thead>\n",
       "    <tr style=\"text-align: right;\">\n",
       "      <th></th>\n",
       "      <th>company</th>\n",
       "      <th>live</th>\n",
       "      <th>mediaEngine</th>\n",
       "      <th>p2p</th>\n",
       "      <th>cdn</th>\n",
       "      <th>upload</th>\n",
       "      <th>peers_count</th>\n",
       "      <th>peers_match</th>\n",
       "      <th>timestamp</th>\n",
       "      <th>sessionDuration</th>\n",
       "      <th>playbackErrorCount</th>\n",
       "      <th>totalPlaybackErrorCount</th>\n",
       "      <th>content</th>\n",
       "      <th>isFirstPayload</th>\n",
       "    </tr>\n",
       "  </thead>\n",
       "  <tbody>\n",
       "    <tr>\n",
       "      <th>0</th>\n",
       "      <td>Streamroot TV</td>\n",
       "      <td>VOD</td>\n",
       "      <td>ME1</td>\n",
       "      <td>0.0</td>\n",
       "      <td>8507376.0</td>\n",
       "      <td>0.0</td>\n",
       "      <td>0.00</td>\n",
       "      <td>1</td>\n",
       "      <td>1562469807407</td>\n",
       "      <td>120000.0</td>\n",
       "      <td>0</td>\n",
       "      <td>0</td>\n",
       "      <td>content-09235</td>\n",
       "      <td>True</td>\n",
       "    </tr>\n",
       "    <tr>\n",
       "      <th>1</th>\n",
       "      <td>Streamroot TV</td>\n",
       "      <td>VOD</td>\n",
       "      <td>ME1</td>\n",
       "      <td>0.0</td>\n",
       "      <td>5778744.0</td>\n",
       "      <td>0.0</td>\n",
       "      <td>0.00</td>\n",
       "      <td>0</td>\n",
       "      <td>1562469927310</td>\n",
       "      <td>240000.0</td>\n",
       "      <td>0</td>\n",
       "      <td>0</td>\n",
       "      <td>content-09235</td>\n",
       "      <td>False</td>\n",
       "    </tr>\n",
       "    <tr>\n",
       "      <th>2</th>\n",
       "      <td>Streamroot TV</td>\n",
       "      <td>VOD</td>\n",
       "      <td>ME1</td>\n",
       "      <td>0.0</td>\n",
       "      <td>7692960.0</td>\n",
       "      <td>0.0</td>\n",
       "      <td>0.00</td>\n",
       "      <td>0</td>\n",
       "      <td>1562470047330</td>\n",
       "      <td>360000.0</td>\n",
       "      <td>0</td>\n",
       "      <td>0</td>\n",
       "      <td>content-09235</td>\n",
       "      <td>False</td>\n",
       "    </tr>\n",
       "    <tr>\n",
       "      <th>3</th>\n",
       "      <td>Streamroot TV</td>\n",
       "      <td>VOD</td>\n",
       "      <td>ME1</td>\n",
       "      <td>0.0</td>\n",
       "      <td>8229888.0</td>\n",
       "      <td>0.0</td>\n",
       "      <td>0.00</td>\n",
       "      <td>0</td>\n",
       "      <td>1562470167720</td>\n",
       "      <td>480000.0</td>\n",
       "      <td>0</td>\n",
       "      <td>0</td>\n",
       "      <td>content-09235</td>\n",
       "      <td>False</td>\n",
       "    </tr>\n",
       "    <tr>\n",
       "      <th>4</th>\n",
       "      <td>Streamroot TV</td>\n",
       "      <td>VOD</td>\n",
       "      <td>ME1</td>\n",
       "      <td>0.0</td>\n",
       "      <td>10387000.0</td>\n",
       "      <td>0.0</td>\n",
       "      <td>0.00</td>\n",
       "      <td>0</td>\n",
       "      <td>1562470287353</td>\n",
       "      <td>600000.0</td>\n",
       "      <td>0</td>\n",
       "      <td>0</td>\n",
       "      <td>content-09235</td>\n",
       "      <td>False</td>\n",
       "    </tr>\n",
       "    <tr>\n",
       "      <th>...</th>\n",
       "      <td>...</td>\n",
       "      <td>...</td>\n",
       "      <td>...</td>\n",
       "      <td>...</td>\n",
       "      <td>...</td>\n",
       "      <td>...</td>\n",
       "      <td>...</td>\n",
       "      <td>...</td>\n",
       "      <td>...</td>\n",
       "      <td>...</td>\n",
       "      <td>...</td>\n",
       "      <td>...</td>\n",
       "      <td>...</td>\n",
       "      <td>...</td>\n",
       "    </tr>\n",
       "    <tr>\n",
       "      <th>385160</th>\n",
       "      <td>Streamroot TV</td>\n",
       "      <td>VOD</td>\n",
       "      <td>ME1</td>\n",
       "      <td>14849556.0</td>\n",
       "      <td>0.0</td>\n",
       "      <td>76800.0</td>\n",
       "      <td>19.98</td>\n",
       "      <td>40</td>\n",
       "      <td>1562478631672</td>\n",
       "      <td>1800000.0</td>\n",
       "      <td>0</td>\n",
       "      <td>0</td>\n",
       "      <td>content-05335</td>\n",
       "      <td>False</td>\n",
       "    </tr>\n",
       "    <tr>\n",
       "      <th>385161</th>\n",
       "      <td>Streamroot TV</td>\n",
       "      <td>VOD</td>\n",
       "      <td>ME1</td>\n",
       "      <td>12287680.0</td>\n",
       "      <td>0.0</td>\n",
       "      <td>417400.0</td>\n",
       "      <td>19.77</td>\n",
       "      <td>40</td>\n",
       "      <td>1562478749635</td>\n",
       "      <td>1920000.0</td>\n",
       "      <td>0</td>\n",
       "      <td>0</td>\n",
       "      <td>content-05335</td>\n",
       "      <td>False</td>\n",
       "    </tr>\n",
       "    <tr>\n",
       "      <th>385162</th>\n",
       "      <td>Streamroot TV</td>\n",
       "      <td>VOD</td>\n",
       "      <td>ME1</td>\n",
       "      <td>13229184.0</td>\n",
       "      <td>0.0</td>\n",
       "      <td>6588.0</td>\n",
       "      <td>19.70</td>\n",
       "      <td>40</td>\n",
       "      <td>1562478869650</td>\n",
       "      <td>2040000.0</td>\n",
       "      <td>0</td>\n",
       "      <td>0</td>\n",
       "      <td>content-05335</td>\n",
       "      <td>False</td>\n",
       "    </tr>\n",
       "    <tr>\n",
       "      <th>385163</th>\n",
       "      <td>Streamroot TV</td>\n",
       "      <td>VOD</td>\n",
       "      <td>ME1</td>\n",
       "      <td>3515600.0</td>\n",
       "      <td>0.0</td>\n",
       "      <td>2000896.0</td>\n",
       "      <td>19.23</td>\n",
       "      <td>40</td>\n",
       "      <td>1562478989910</td>\n",
       "      <td>2160000.0</td>\n",
       "      <td>0</td>\n",
       "      <td>0</td>\n",
       "      <td>content-05335</td>\n",
       "      <td>False</td>\n",
       "    </tr>\n",
       "    <tr>\n",
       "      <th>385164</th>\n",
       "      <td>Streamroot TV</td>\n",
       "      <td>VOD</td>\n",
       "      <td>ME1</td>\n",
       "      <td>0.0</td>\n",
       "      <td>0.0</td>\n",
       "      <td>6739956.0</td>\n",
       "      <td>16.73</td>\n",
       "      <td>40</td>\n",
       "      <td>1562479110208</td>\n",
       "      <td>2280000.0</td>\n",
       "      <td>0</td>\n",
       "      <td>0</td>\n",
       "      <td>content-05335</td>\n",
       "      <td>False</td>\n",
       "    </tr>\n",
       "  </tbody>\n",
       "</table>\n",
       "<p>385165 rows × 14 columns</p>\n",
       "</div>"
      ],
      "text/plain": [
       "              company live mediaEngine         p2p         cdn     upload  \\\n",
       "0       Streamroot TV  VOD         ME1         0.0   8507376.0        0.0   \n",
       "1       Streamroot TV  VOD         ME1         0.0   5778744.0        0.0   \n",
       "2       Streamroot TV  VOD         ME1         0.0   7692960.0        0.0   \n",
       "3       Streamroot TV  VOD         ME1         0.0   8229888.0        0.0   \n",
       "4       Streamroot TV  VOD         ME1         0.0  10387000.0        0.0   \n",
       "...               ...  ...         ...         ...         ...        ...   \n",
       "385160  Streamroot TV  VOD         ME1  14849556.0         0.0    76800.0   \n",
       "385161  Streamroot TV  VOD         ME1  12287680.0         0.0   417400.0   \n",
       "385162  Streamroot TV  VOD         ME1  13229184.0         0.0     6588.0   \n",
       "385163  Streamroot TV  VOD         ME1   3515600.0         0.0  2000896.0   \n",
       "385164  Streamroot TV  VOD         ME1         0.0         0.0  6739956.0   \n",
       "\n",
       "        peers_count  peers_match      timestamp  sessionDuration  \\\n",
       "0              0.00            1  1562469807407         120000.0   \n",
       "1              0.00            0  1562469927310         240000.0   \n",
       "2              0.00            0  1562470047330         360000.0   \n",
       "3              0.00            0  1562470167720         480000.0   \n",
       "4              0.00            0  1562470287353         600000.0   \n",
       "...             ...          ...            ...              ...   \n",
       "385160        19.98           40  1562478631672        1800000.0   \n",
       "385161        19.77           40  1562478749635        1920000.0   \n",
       "385162        19.70           40  1562478869650        2040000.0   \n",
       "385163        19.23           40  1562478989910        2160000.0   \n",
       "385164        16.73           40  1562479110208        2280000.0   \n",
       "\n",
       "        playbackErrorCount  totalPlaybackErrorCount        content  \\\n",
       "0                        0                        0  content-09235   \n",
       "1                        0                        0  content-09235   \n",
       "2                        0                        0  content-09235   \n",
       "3                        0                        0  content-09235   \n",
       "4                        0                        0  content-09235   \n",
       "...                    ...                      ...            ...   \n",
       "385160                   0                        0  content-05335   \n",
       "385161                   0                        0  content-05335   \n",
       "385162                   0                        0  content-05335   \n",
       "385163                   0                        0  content-05335   \n",
       "385164                   0                        0  content-05335   \n",
       "\n",
       "        isFirstPayload  \n",
       "0                 True  \n",
       "1                False  \n",
       "2                False  \n",
       "3                False  \n",
       "4                False  \n",
       "...                ...  \n",
       "385160           False  \n",
       "385161           False  \n",
       "385162           False  \n",
       "385163           False  \n",
       "385164           False  \n",
       "\n",
       "[385165 rows x 14 columns]"
      ]
     },
     "execution_count": 55,
     "metadata": {},
     "output_type": "execute_result"
    }
   ],
   "source": [
    "df1 = df.copy()\n",
    "df1[\"isFirstPayload\"] = df[\"sessionDuration\"].apply(lambda x: x == 120000.0)\n",
    "df1"
   ]
  },
  {
   "cell_type": "markdown",
   "metadata": {},
   "source": [
    "## 2.3\n",
    "**Use that column to calculate the number of distinct viewers that sent payloads for each company.**\n",
    "\n",
    "Below the the number of distinct viewers for each company"
   ]
  },
  {
   "cell_type": "code",
   "execution_count": 4,
   "metadata": {},
   "outputs": [
    {
     "data": {
      "text/html": [
       "<div>\n",
       "<style scoped>\n",
       "    .dataframe tbody tr th:only-of-type {\n",
       "        vertical-align: middle;\n",
       "    }\n",
       "\n",
       "    .dataframe tbody tr th {\n",
       "        vertical-align: top;\n",
       "    }\n",
       "\n",
       "    .dataframe thead th {\n",
       "        text-align: right;\n",
       "    }\n",
       "</style>\n",
       "<table border=\"1\" class=\"dataframe\">\n",
       "  <thead>\n",
       "    <tr style=\"text-align: right;\">\n",
       "      <th></th>\n",
       "      <th>numberViewers</th>\n",
       "    </tr>\n",
       "    <tr>\n",
       "      <th>company</th>\n",
       "      <th></th>\n",
       "    </tr>\n",
       "  </thead>\n",
       "  <tbody>\n",
       "    <tr>\n",
       "      <th>Flash Infos</th>\n",
       "      <td>805</td>\n",
       "    </tr>\n",
       "    <tr>\n",
       "      <th>Sports News</th>\n",
       "      <td>115</td>\n",
       "    </tr>\n",
       "    <tr>\n",
       "      <th>Streamroot TV</th>\n",
       "      <td>19914</td>\n",
       "    </tr>\n",
       "  </tbody>\n",
       "</table>\n",
       "</div>"
      ],
      "text/plain": [
       "               numberViewers\n",
       "company                     \n",
       "Flash Infos              805\n",
       "Sports News              115\n",
       "Streamroot TV          19914"
      ]
     },
     "execution_count": 4,
     "metadata": {},
     "output_type": "execute_result"
    }
   ],
   "source": [
    "q23 = df1[df1.isFirstPayload]\n",
    "q23 = q23[[\"company\", \"isFirstPayload\"]].groupby(\"company\").count()\n",
    "q23 = q23.rename(columns = {\"isFirstPayload\":\"numberViewers\"})\n",
    "q23"
   ]
  },
  {
   "cell_type": "markdown",
   "metadata": {},
   "source": [
    "# Question 3\n",
    "## 3.1\n",
    "**Let's consider a viewer A who starts a video at T=0, then has a playback error at T = 2 minutes 30 seconds, and then another one at T=6 minutes 20 seconds. What will be the values of the fields `playbackErrorCount` and `totalPlaybackErrorCount` in the first 5 payloads sent by viewer A?**\n",
    "\n",
    "Below the values of `playbackErrorCount` and `totalPlaybackErrorCount` in the first 5 payloads"
   ]
  },
  {
   "cell_type": "markdown",
   "metadata": {},
   "source": [
    "Payload | playbackErrorCount | totalPlaybackErrorCount\n",
    "--- | --- | ---\n",
    "**1** | 0 | 0\n",
    "**2** | 1 | 1\n",
    "**3** | 0 | 1\n",
    "**4** | 1 | 2\n",
    "**5** | 0 | 2"
   ]
  },
  {
   "cell_type": "markdown",
   "metadata": {},
   "source": [
    "## 3.2\n",
    "\n",
    "**Calculate the number of distinct viewers that had at least 1 playback error during their session.**\n",
    "\n",
    "We can count tha nimber of viewers that had at least 1 playback by counting the number the first playback back error wich is caracterized by \n",
    "$$totalPlaybackErrorCount = 1$$ \n",
    "and \n",
    "$$playbackErrorCount = 1$$\n",
    "\n",
    "This give us 8 viewers that had a playback error"
   ]
  },
  {
   "cell_type": "code",
   "execution_count": 5,
   "metadata": {},
   "outputs": [
    {
     "data": {
      "text/plain": [
       "8"
      ]
     },
     "execution_count": 5,
     "metadata": {},
     "output_type": "execute_result"
    }
   ],
   "source": [
    "df1[(df1.totalPlaybackErrorCount == 1) & (df1.playbackErrorCount == 1)].shape[0]"
   ]
  },
  {
   "cell_type": "markdown",
   "metadata": {},
   "source": [
    "# Question 4\n",
    "## 4.1\n",
    "**Add a column \"readableDate\" to the dataset that will be the beginning of the 2 minutes window during which the payload was sent. For example, if a payload was sent at 11:35, the column \"readableDate\" should be 11:33.**"
   ]
  },
  {
   "cell_type": "code",
   "execution_count": 6,
   "metadata": {
    "scrolled": true
   },
   "outputs": [
    {
     "data": {
      "text/plain": [
       "0         05:21\n",
       "1         05:23\n",
       "2         05:25\n",
       "3         05:27\n",
       "4         05:29\n",
       "          ...  \n",
       "385160    07:48\n",
       "385161    07:50\n",
       "385162    07:52\n",
       "385163    07:54\n",
       "385164    07:56\n",
       "Name: readableDate, Length: 370832, dtype: object"
      ]
     },
     "execution_count": 6,
     "metadata": {},
     "output_type": "execute_result"
    }
   ],
   "source": [
    "df3 = df1.copy()\n",
    "df3 = df3[df3.company == \"Streamroot TV\"]\n",
    "\n",
    "# f convert a timstamp in ms to hh:mm format\n",
    "f = lambda x: (datetime.fromtimestamp(x/1000) - timedelta(minutes=2)).strftime(\"%H:%M\")\n",
    "df3[\"readableDate\"] = df3[\"timestamp\"].apply(f)\n",
    "df3[\"readableDate\"]"
   ]
  },
  {
   "cell_type": "markdown",
   "metadata": {},
   "source": [
    "## 4.2\n",
    "**Plot the concurrency time series for the content content-05335.**\n",
    "\n",
    "Since the concurrency is the number of viewers connected simustaneously on the same content.\n",
    "\n",
    "We define the concurrency for a `readableDate` = **m** as the number of payloads between **m + 2** and **m + 4**.\n",
    "\n",
    "* For payloads sent between **m + 2** and **m + 3** they will have a `readableDate` = **m**\n",
    "* For payloads sent between **m + 3** and **m + 4** they will have a `readableDate` = **m + 1**\n",
    "\n",
    "Based on that, here's the algorithm to calculate the concurrency time series for the content content-05335."
   ]
  },
  {
   "cell_type": "code",
   "execution_count": 157,
   "metadata": {
    "scrolled": true
   },
   "outputs": [
    {
     "data": {
      "image/png": "[encoded data removed]",
      "text/plain": [
       "<Figure size 432x288 with 1 Axes>"
      ]
     },
     "metadata": {
      "needs_background": "light"
     },
     "output_type": "display_data"
    }
   ],
   "source": [
    "q42 = df3[df3.content == \"content-05335\"][\"readableDate\"].values\n",
    "l = [int(time[:2])*60 + int(time[3:]) for time in q42]\n",
    "\n",
    "min_t = min(l)\n",
    "max_t = max(l)\n",
    "serie = []\n",
    "serie_range = range(min_t,max_t - 1)\n",
    "\n",
    "for i in serie_range:\n",
    "    s = 0\n",
    "    for t in l:\n",
    "        if i <= t <= i + 1 :\n",
    "            s += 1\n",
    "    serie.append(s)\n",
    "\n",
    "plt.plot(serie_range,serie)\n",
    "plt.xlabel(\"Minutes\")\n",
    "plt.ylabel(\"Concurrency\")\n",
    "plt.title(\"Concurrency time series\");"
   ]
  },
  {
   "cell_type": "markdown",
   "metadata": {},
   "source": [
    "## 4.3\n",
    "**What is the average performance measured when the concurrency is lower than 10?**\n",
    "\n",
    "Using the some logic as the question 4.2, below the peformanance :"
   ]
  },
  {
   "cell_type": "code",
   "execution_count": 159,
   "metadata": {},
   "outputs": [
    {
     "data": {
      "text/plain": [
       "0.5437198961286758"
      ]
     },
     "execution_count": 159,
     "metadata": {},
     "output_type": "execute_result"
    }
   ],
   "source": [
    "# Create a column count_m that count the number of viewers for every content \n",
    "# in a one minute window\n",
    "q43 = df3[[\"content\",\"readableDate\",\"company\"]].groupby([\"content\",\"readableDate\"]).count()\n",
    "q43.rename(columns = {\"company\": \"count_m\"}, inplace = True)\n",
    "\n",
    "\n",
    "# Function to count the number of viewers for every content in the minute after\n",
    "def f(x):\n",
    "    content = x.content\n",
    "    minute = datetime.strptime(x.readableDate,\"%H:%M\")\n",
    "    one_min = timedelta(minutes = 1) \n",
    "    minute_plus_one = (minute + one_min).strftime(\"%H:%M\")\n",
    "    \n",
    "    try :\n",
    "        c = q43.loc[(content,minute_plus_one)].values[0]\n",
    "    except KeyError :\n",
    "        c = 0\n",
    "    \n",
    "    return c\n",
    "\n",
    "# Create a column count_mPlusOne that count the number of viewers for every content \n",
    "# in a the minute after   \n",
    "df_q43 = q43.reset_index()\n",
    "df_q43[\"count_mPlusOne\"] = df_q43.apply(f, axis = 1)\n",
    "\n",
    "\n",
    "# Create the concurrency as defined in the question 4.2\n",
    "df_q43[\"concurrency\"] = df_q43[\"count_m\"] + df_q43[\"count_mPlusOne\"]\n",
    "df4 = df3.merge(df_q43,how = 'inner', on = ['content','readableDate'])\n",
    "\n",
    "# The performance when the concurrency is lower than 10\n",
    "cncr10 = df4[df4.concurrency <=  10]\n",
    "perf10 = cncr10[[\"p2p\",\"cdn\"]].sum()\n",
    "perf10[\"p2p\"]/(perf10[\"cdn\"] +perf10[\"p2p\"])\n"
   ]
  },
  {
   "cell_type": "markdown",
   "metadata": {},
   "source": [
    "## 4.4\n",
    "**Starting from which concurrency can we say there is a 75% chance that the performance on a content is higher than 80%?**\n",
    "\n",
    "Starting from 9 there's a 75% chance that the performance on a content is higher than 80%"
   ]
  },
  {
   "cell_type": "code",
   "execution_count": 165,
   "metadata": {},
   "outputs": [
    {
     "name": "stdout",
     "output_type": "stream",
     "text": [
      "1 0.30530240265120134\n",
      "2 0.5137956748695004\n",
      "3 0.5823529411764706\n",
      "4 0.6153846153846154\n",
      "5 0.6842105263157895\n",
      "6 0.660377358490566\n",
      "7 0.7027027027027027\n",
      "8 0.6333333333333333\n",
      "9 0.75\n",
      "10 0.7333333333333333\n",
      "11 0.5833333333333334\n",
      "12 0.5833333333333334\n",
      "13 0.7\n",
      "14 0.6666666666666666\n",
      "15 0.625\n",
      "16 0.625\n",
      "17 1.0\n",
      "18 1.0\n",
      "19 1.0\n",
      "20 1.0\n",
      "21 1.0\n",
      "22 1.0\n",
      "23 0.6666666666666666\n",
      "24 0.6666666666666666\n",
      "25 0.5\n",
      "26 1.0\n"
     ]
    },
    {
     "data": {
      "image/png": "[encoded data removed]",
      "text/plain": [
       "<Figure size 432x288 with 1 Axes>"
      ]
     },
     "metadata": {
      "needs_background": "light"
     },
     "output_type": "display_data"
    }
   ],
   "source": [
    "l = []\n",
    "concurrency_range = range(1,max(df4.concurrency) + 1 )\n",
    "for i in concurrency_range:\n",
    "    # Rows that have a concurrency  greater than i\n",
    "    cncr_i = df4[df4.concurrency >=  i]\n",
    "    \n",
    "    # Calculate the performance for every content \n",
    "    perf_i = cncr_i[[\"content\", \"p2p\",\"cdn\"]].groupby(\"content\").sum()\n",
    "    perf_i[\"performance\"] = perf_i[\"p2p\"]/(perf_i[\"cdn\"] + perf_i[\"p2p\"])\n",
    "    \n",
    "    # Add a column isGreaterThan80 that indicate if the performance is greater then 80%\n",
    "    perf_i[\"isGreaterThan80\"] = perf_i[\"performance\"].apply(lambda x: x >= 0.8)\n",
    "    \n",
    "    # Calculate the proba that the performance on a content is higher than 80%\n",
    "    proba_i = perf_i[\"isGreaterThan80\"].mean()\n",
    "    l.append(proba_i)\n",
    "    print(i, proba_i)\n",
    "    \n",
    "# Plot the result \n",
    "plt.plot(concurrency_range, l)\n",
    "plt.plot(concurrency_range, len(concurrency_range)*[0.75]);"
   ]
  }
 ],
 "metadata": {
  "kernelspec": {
   "display_name": "Python 3",
   "language": "python",
   "name": "python3"
  },
  "language_info": {
   "codemirror_mode": {
    "name": "ipython",
    "version": 3
   },
   "file_extension": ".py",
   "mimetype": "text/x-python",
   "name": "python",
   "nbconvert_exporter": "python",
   "pygments_lexer": "ipython3",
   "version": "3.8.5"
  }
 },
 "nbformat": 4,
 "nbformat_minor": 4
}
